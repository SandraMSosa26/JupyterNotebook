{
 "cells": [
  {
   "cell_type": "markdown",
   "metadata": {
    "tags": []
   },
   "source": [
    "#### Add your code below following the instructions given in the course\n"
   ]
  },
  {
   "cell_type": "markdown",
   "metadata": {},
   "source": [
    "<center>\n",
    "    <img src=\"https://cf-courses-data.s3.us.cloud-object-storage.appdomain.cloud/IBMDeveloperSkillsNetwork-DS0105EN-SkillsNetwork/labs/Module2/images/SN_web_lightmode.png\" width=\"300\" alt=\"cognitiveclass.ai logo\">\n",
    "</center>\n"
   ]
  },
  {
   "cell_type": "markdown",
   "metadata": {
    "tags": [
     "<h1>"
    ]
   },
   "source": [
    "<h1>Data Science Tools and Ecosystem</h1>"
   ]
  },
  {
   "cell_type": "markdown",
   "metadata": {
    "tags": [
     "<h1>",
     "<h2>"
    ]
   },
   "source": [
    "<h2>In this notebook, Data Science Tools and Ecosystem are summarized.</h2>"
   ]
  },
  {
   "cell_type": "markdown",
   "metadata": {
    "jp-MarkdownHeadingCollapsed": true,
    "tags": [
     "<h2>",
     "<h1>",
     "<h3>"
    ]
   },
   "source": [
    "<h3>Some of the popular languages that Data Scientists use are:</h3>\n",
    "\n",
    "<ol>\n",
    "      <li>Python</li>\n",
    "      <li>JavaScript</li>\n",
    "      <li>SQL</li>\n",
    "</ol>"
   ]
  },
  {
   "cell_type": "markdown",
   "metadata": {
    "tags": []
   },
   "source": [
    "<h3>Some of the commonly used libraries used by Data Scientists include:</h3>\n",
    "    \n",
    "<ol>\n",
    "      <li>TensorFlow</li>\n",
    "      <li>Pandas</li>\n",
    "      <li>PyTorch</li>\n",
    "</ol>"
   ]
  },
  {
   "cell_type": "markdown",
   "metadata": {
    "tags": [
     "<h4>"
    ]
   },
   "source": [
    "| Data Science Tools                        |\n",
    "|-------------------|---------|-------------|\n",
    "| TensorFlow        | R Studio| Apache Spark|"
   ]
  },
  {
   "cell_type": "markdown",
   "metadata": {
    "tags": []
   },
   "source": [
    "<h3>Below are a few examples of evaluating arithmetic expressions in Python</h3>\n",
    "\n",
    "$$ a + 20 = 30 $$\n",
    "\n",
    "$$ a = 30-20 $$\n",
    "\n",
    "$$ a = 10 $$\n",
    "\n",
    "\n"
   ]
  },
  {
   "cell_type": "markdown",
   "metadata": {
    "tags": []
   },
   "source": [
    "<h3>This a simple arithmetic expression to multiply then add integers</h3>"
   ]
  },
  {
   "cell_type": "code",
   "execution_count": 4,
   "metadata": {
    "tags": []
   },
   "outputs": [
    {
     "name": "stdout",
     "output_type": "stream",
     "text": [
      "17\n"
     ]
    }
   ],
   "source": [
    "a = (3 * 4)+ 5\n",
    "print(a)"
   ]
  },
  {
   "cell_type": "markdown",
   "metadata": {
    "tags": []
   },
   "source": [
    "<h3>This will convert 200 minutes to hours by dividing by 60</h3>"
   ]
  },
  {
   "cell_type": "code",
   "execution_count": 3,
   "metadata": {
    "tags": []
   },
   "outputs": [
    {
     "name": "stdout",
     "output_type": "stream",
     "text": [
      "3\n"
     ]
    }
   ],
   "source": [
    "Minutes: 200\n",
    "Hour= (200 // 60)\n",
    "print(Hour)"
   ]
  },
  {
   "cell_type": "markdown",
   "metadata": {
    "jp-MarkdownHeadingCollapsed": true,
    "tags": []
   },
   "source": [
    "<h3> <b>Objectives: </b></h3>\n",
    "\n",
    "<ul>\n",
    "    <li>Different languages used in data science</li>\n",
    "    <li>Different libraries that are used in data science</li>\n",
    "    <li>Code mathematical operations</li>\n",
    "    <li>Encode time</li>\n",
    "    <li>Use of markdown and code</li>\n",
    "</ul>\n"
   ]
  },
  {
   "cell_type": "markdown",
   "metadata": {},
   "source": [
    "<h3> Author</h3>\n",
    "\n",
    "<h2> Sosa, Sandra M </h2>"
   ]
  }
 ],
 "metadata": {
  "kernelspec": {
   "display_name": "Python",
   "language": "python",
   "name": "conda-env-python-py"
  },
  "language_info": {
   "codemirror_mode": {
    "name": "ipython",
    "version": 3
   },
   "file_extension": ".py",
   "mimetype": "text/x-python",
   "name": "python",
   "nbconvert_exporter": "python",
   "pygments_lexer": "ipython3",
   "version": "3.7.12"
  }
 },
 "nbformat": 4,
 "nbformat_minor": 4
}
